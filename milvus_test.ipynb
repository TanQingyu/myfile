{
 "cells": [
  {
   "cell_type": "markdown",
   "id": "d885bbe0",
   "metadata": {},
   "source": [
    "[Milvus test](https://blog.csdn.net/Andrwin/article/details/124324248)"
   ]
  },
  {
   "cell_type": "code",
   "execution_count": 60,
   "id": "52622e4e",
   "metadata": {},
   "outputs": [],
   "source": [
    "import random\n",
    "from pymilvus import connections, FieldSchema, CollectionSchema, DataType, Collection"
   ]
  },
  {
   "cell_type": "markdown",
   "id": "0b0595b0",
   "metadata": {},
   "source": [
    "### 1 链接milvus服务器"
   ]
  },
  {
   "cell_type": "code",
   "execution_count": 4,
   "id": "121ea6cb",
   "metadata": {},
   "outputs": [],
   "source": [
    "connections.connect(host='3.68.74.215', port='19530')"
   ]
  },
  {
   "cell_type": "markdown",
   "id": "2bd84633",
   "metadata": {},
   "source": [
    "### 2 建表"
   ]
  },
  {
   "cell_type": "code",
   "execution_count": 6,
   "id": "2879829c",
   "metadata": {},
   "outputs": [],
   "source": [
    "collection_name = \"Feat_test\"# 表名\n",
    "dim = 2 # 向量，dim=2代表向量只有两列，自己的数据的话一个向量有多少个元素就多少列"
   ]
  },
  {
   "cell_type": "code",
   "execution_count": 22,
   "id": "d69f4fa4",
   "metadata": {},
   "outputs": [],
   "source": [
    "id = FieldSchema(name=\"id\", dtype=DataType.INT64, is_primary=True, )# 主键索引\n",
    "features = FieldSchema(name=\"features\", dtype=DataType.FLOAT_VECTOR, dim=dim)\n",
    "schema = CollectionSchema(fields=[id, features], description=\"Save features\")# 描述"
   ]
  },
  {
   "cell_type": "code",
   "execution_count": 23,
   "id": "189941ea",
   "metadata": {},
   "outputs": [],
   "source": [
    "collection = Collection(name=collection_name, schema=schema, using='default', shards_num=2,consistency_level=\"Strong\")# 建表"
   ]
  },
  {
   "cell_type": "markdown",
   "id": "67bea52b",
   "metadata": {},
   "source": [
    "### 3 读表，并查看信息"
   ]
  },
  {
   "cell_type": "code",
   "execution_count": 30,
   "id": "073286e3",
   "metadata": {},
   "outputs": [
    {
     "name": "stdout",
     "output_type": "stream",
     "text": [
      "{'auto_id': False, 'description': 'Save features', 'fields': [{'name': 'id', 'description': '', 'type': <DataType.INT64: 5>, 'is_primary': True, 'auto_id': False}, {'name': 'features', 'description': '', 'type': <DataType.FLOAT_VECTOR: 101>, 'params': {'dim': 2}}]}\n"
     ]
    }
   ],
   "source": [
    "collection = Collection(\"Feat_test\")  # Get an existing collection.\n",
    "print(collection.schema)                # Return the schema.CollectionSchema of the collection."
   ]
  },
  {
   "cell_type": "code",
   "execution_count": 31,
   "id": "ad85be48",
   "metadata": {},
   "outputs": [
    {
     "name": "stdout",
     "output_type": "stream",
     "text": [
      "Save features\n"
     ]
    }
   ],
   "source": [
    "print(collection.description)           # Return the description of the collection."
   ]
  },
  {
   "cell_type": "code",
   "execution_count": 32,
   "id": "717bd160",
   "metadata": {},
   "outputs": [
    {
     "name": "stdout",
     "output_type": "stream",
     "text": [
      "Feat_test\n"
     ]
    }
   ],
   "source": [
    "print(collection.name     )             # Return the name of the collection."
   ]
  },
  {
   "cell_type": "code",
   "execution_count": 33,
   "id": "2193b3b7",
   "metadata": {},
   "outputs": [
    {
     "name": "stdout",
     "output_type": "stream",
     "text": [
      "True\n"
     ]
    }
   ],
   "source": [
    "print(collection.is_empty )             # Return the boolean value that indicates if the collection is empty."
   ]
  },
  {
   "cell_type": "code",
   "execution_count": 34,
   "id": "eee2ed8d",
   "metadata": {},
   "outputs": [
    {
     "name": "stdout",
     "output_type": "stream",
     "text": [
      "0\n"
     ]
    }
   ],
   "source": [
    "print(collection.num_entities )         # Return the number of entities in the collection."
   ]
  },
  {
   "cell_type": "code",
   "execution_count": 35,
   "id": "174912cb",
   "metadata": {},
   "outputs": [
    {
     "name": "stdout",
     "output_type": "stream",
     "text": [
      "{'name': 'id', 'description': '', 'type': <DataType.INT64: 5>, 'is_primary': True, 'auto_id': False}\n"
     ]
    }
   ],
   "source": [
    "print(collection.primary_field )        # Return the schema.FieldSchema of the primary key field."
   ]
  },
  {
   "cell_type": "code",
   "execution_count": 36,
   "id": "a0623e03",
   "metadata": {},
   "outputs": [
    {
     "name": "stdout",
     "output_type": "stream",
     "text": [
      "[{\"name\":\"_default\",\"collection_name\":\"Feat_test\",\"description\":\"\"}]\n"
     ]
    }
   ],
   "source": [
    "print(collection.partitions)            # Return the list[Partition] object."
   ]
  },
  {
   "cell_type": "code",
   "execution_count": 37,
   "id": "0edb249f",
   "metadata": {},
   "outputs": [
    {
     "name": "stdout",
     "output_type": "stream",
     "text": [
      "[]\n"
     ]
    }
   ],
   "source": [
    "print(collection.indexes )              # Return the list[Index] object."
   ]
  },
  {
   "cell_type": "markdown",
   "id": "6977ac31",
   "metadata": {},
   "source": [
    "### 4 插入数据，建立索引"
   ]
  },
  {
   "cell_type": "code",
   "execution_count": 38,
   "id": "00cf241d",
   "metadata": {},
   "outputs": [],
   "source": [
    "import random\n",
    "data = [[i for i in range(2000)],\n",
    "        [[random.random() for _ in range(2)] for _ in range(2000)],]"
   ]
  },
  {
   "cell_type": "code",
   "execution_count": 47,
   "id": "57fe69ea",
   "metadata": {},
   "outputs": [
    {
     "name": "stdout",
     "output_type": "stream",
     "text": [
      "(insert count: 2000, delete count: 0, upsert count: 0, timestamp: 444023530107699206, success count: 2000, err count: 0)\n"
     ]
    }
   ],
   "source": [
    "collection = Collection(\"Feat_test\")      # Get an existing collection.\n",
    "mr = collection.insert(data)\n",
    "print(mr)"
   ]
  },
  {
   "cell_type": "code",
   "execution_count": 48,
   "id": "bed94911",
   "metadata": {},
   "outputs": [],
   "source": [
    "index_params = {\"metric_type\":\"L2\",\"index_type\":\"IVF_FLAT\",\"params\":{\"nlist\":1024}}\n",
    "collection = Collection(\"Feat_test\")      # Get an existing collection."
   ]
  },
  {
   "cell_type": "code",
   "execution_count": 49,
   "id": "592dcb47",
   "metadata": {},
   "outputs": [
    {
     "name": "stderr",
     "output_type": "stream",
     "text": [
      "alloc_timestamp unimplemented, ignore it\n"
     ]
    },
    {
     "data": {
      "text/plain": [
       "Status(code=0, message=)"
      ]
     },
     "execution_count": 49,
     "metadata": {},
     "output_type": "execute_result"
    }
   ],
   "source": [
    "collection.create_index(\n",
    "    field_name=\"features\", \n",
    "    index_params=index_params\n",
    "    )"
   ]
  },
  {
   "cell_type": "markdown",
   "id": "67a31f92",
   "metadata": {},
   "source": [
    "### 5 检索向量"
   ]
  },
  {
   "cell_type": "code",
   "execution_count": 50,
   "id": "beb6bfbe",
   "metadata": {},
   "outputs": [],
   "source": [
    "collection = Collection(\"Feat_test\")      # Get an existing collection.\n",
    "collection.load()"
   ]
  },
  {
   "cell_type": "code",
   "execution_count": 52,
   "id": "5826bf55",
   "metadata": {},
   "outputs": [],
   "source": [
    "search_params = {\"metric_type\": \"L2\", \"params\": {\"nprobe\": 10}}"
   ]
  },
  {
   "cell_type": "code",
   "execution_count": 53,
   "id": "b0ada780",
   "metadata": {},
   "outputs": [],
   "source": [
    "results = collection.search(\n",
    "    data=[[0.1, 0.2]], \n",
    "    anns_field=\"features\", \n",
    "    param=search_params, \n",
    "    limit=10, \n",
    "    expr=None,\n",
    "    consistency_level=\"Strong\"\n",
    ")"
   ]
  },
  {
   "cell_type": "code",
   "execution_count": 54,
   "id": "b948fe60",
   "metadata": {},
   "outputs": [
    {
     "data": {
      "text/plain": [
       "[999, 1001, 1475, 75, 358, 25, 208, 918, 1353, 1484]"
      ]
     },
     "execution_count": 54,
     "metadata": {},
     "output_type": "execute_result"
    }
   ],
   "source": [
    "results[0].ids"
   ]
  },
  {
   "cell_type": "code",
   "execution_count": 55,
   "id": "68fe2260",
   "metadata": {},
   "outputs": [
    {
     "data": {
      "text/plain": [
       "[0.0003853969683405012, 0.0004526191914919764, 0.0005387334385886788, 0.000669920293148607, 0.0007647850434295833, 0.001225667423568666, 0.0014360530767589808, 0.0015708350110799074, 0.0015768151497468352, 0.0020566426683217287]"
      ]
     },
     "execution_count": 55,
     "metadata": {},
     "output_type": "execute_result"
    }
   ],
   "source": [
    "results[0].distances"
   ]
  },
  {
   "cell_type": "code",
   "execution_count": 56,
   "id": "9c915b3e",
   "metadata": {},
   "outputs": [
    {
     "data": {
      "text/plain": [
       "[0.2039014881907596, 0.6381399172221718]"
      ]
     },
     "execution_count": 56,
     "metadata": {},
     "output_type": "execute_result"
    }
   ],
   "source": [
    "data[1][204]"
   ]
  },
  {
   "cell_type": "markdown",
   "id": "d388843e",
   "metadata": {},
   "source": [
    "### 6 释放内存"
   ]
  },
  {
   "cell_type": "code",
   "execution_count": 57,
   "id": "6be538d4",
   "metadata": {},
   "outputs": [],
   "source": [
    "collection.release()"
   ]
  },
  {
   "cell_type": "code",
   "execution_count": null,
   "id": "01f877c1",
   "metadata": {},
   "outputs": [],
   "source": []
  }
 ],
 "metadata": {
  "kernelspec": {
   "display_name": "Python 3 (ipykernel)",
   "language": "python",
   "name": "python3"
  },
  "language_info": {
   "codemirror_mode": {
    "name": "ipython",
    "version": 3
   },
   "file_extension": ".py",
   "mimetype": "text/x-python",
   "name": "python",
   "nbconvert_exporter": "python",
   "pygments_lexer": "ipython3",
   "version": "3.11.4"
  }
 },
 "nbformat": 4,
 "nbformat_minor": 5
}
